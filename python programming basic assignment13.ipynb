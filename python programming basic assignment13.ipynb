{
 "cells": [
  {
   "cell_type": "code",
   "execution_count": 1,
   "id": "2b2c05b8",
   "metadata": {},
   "outputs": [
    {
     "name": "stdout",
     "output_type": "stream",
     "text": [
      "enter the values of variable:100,150,180\n",
      "18,22,24\n"
     ]
    }
   ],
   "source": [
    "'''Write a program that calculates and prints the value according to the given formula:\n",
    "Q = Square root of [(2 * C * D)/H]\n",
    "Following are the fixed values of C and H:\n",
    "C is 50. H is 30.'''\n",
    "d=list(map(int,input(\"enter the values of variable:\").split(\",\")))\n",
    "for i in range(len(d)):\n",
    "    q=((2*50*d[i])/30)**(1/2)\n",
    "    if i==len(d)-1:\n",
    "        print(int(q))\n",
    "    else:\n",
    "        print(int(q),end=\",\")"
   ]
  },
  {
   "cell_type": "code",
   "execution_count": 2,
   "id": "628250e8",
   "metadata": {},
   "outputs": [
    {
     "name": "stdout",
     "output_type": "stream",
     "text": [
      "3,5\n",
      "[[0, 0, 0, 0, 0], [0, 1, 2, 3, 4], [0, 2, 4, 6, 8]]\n"
     ]
    }
   ],
   "source": [
    "'''Write a program which takes 2 digits, X,Y as input and generates a 2-dimensional array. The\n",
    "element value in the i-th row and j-th column of the array should be i*j.\n",
    "Note: i=0,1.., X-1; j=0,1,¡Y-1.'''\n",
    "x,y=map(int,input().split(\",\"))\n",
    "a=[]\n",
    "for i in range(x):\n",
    "    r=[]\n",
    "    for j in range(y):\n",
    "        r.append(i*j)\n",
    "    a.append(r)\n",
    "print(a)\n",
    "    "
   ]
  },
  {
   "cell_type": "code",
   "execution_count": 3,
   "id": "2a8bbcc7",
   "metadata": {},
   "outputs": [
    {
     "name": "stdout",
     "output_type": "stream",
     "text": [
      "without,hello,bag,world\n",
      "bag,hello,without,world\n"
     ]
    }
   ],
   "source": [
    "'''Write a program that accepts a comma separated sequence of words as input and prints the\n",
    "words in a comma-separated sequence after sorting them alphabetically.'''\n",
    "w=input().split(\",\")\n",
    "w.sort()\n",
    "for i in range(len(w)):\n",
    "    if i==len(w)-1:\n",
    "        print(w[i])\n",
    "    else:\n",
    "        print(w[i],end=\",\")\n"
   ]
  },
  {
   "cell_type": "code",
   "execution_count": 4,
   "id": "266d9f76",
   "metadata": {},
   "outputs": [
    {
     "name": "stdout",
     "output_type": "stream",
     "text": [
      "hello world and practice makes perfect and hello world again\n",
      "again and hello makes perfect practice world\n"
     ]
    }
   ],
   "source": [
    "'''Write a program that accepts a sequence of whitespace separated words as input and prints\n",
    "the words after removing all duplicate words and sorting them alphanumerically.'''\n",
    "w=input().split()\n",
    "s=list(set(w))\n",
    "s.sort()\n",
    "for i in range(len(s)):\n",
    "    if i==len(s)-1:\n",
    "        print(s[i])\n",
    "    else:\n",
    "        print(s[i],end=\" \")"
   ]
  },
  {
   "cell_type": "code",
   "execution_count": 5,
   "id": "f1dbdc89",
   "metadata": {},
   "outputs": [
    {
     "name": "stdout",
     "output_type": "stream",
     "text": [
      "hello world! 123\n",
      "LETTERS 10\n",
      "DIGITS 3\n"
     ]
    }
   ],
   "source": [
    "#Write a program that accepts a sentence and calculate the number of letters and digits.\n",
    "s=input()\n",
    "l,d=0,0\n",
    "for i in s:\n",
    "    if i.isalpha():\n",
    "        l+=1\n",
    "    elif i.isdigit():\n",
    "        d+=1\n",
    "    else:\n",
    "        pass\n",
    "print(\"LETTERS\",l)\n",
    "print(\"DIGITS\",d)"
   ]
  },
  {
   "cell_type": "code",
   "execution_count": 6,
   "id": "e389a086",
   "metadata": {},
   "outputs": [
    {
     "name": "stdout",
     "output_type": "stream",
     "text": [
      "ABd1234@1,a F1#,2w3E*,2We3345\n",
      "ABd1234@1,"
     ]
    }
   ],
   "source": [
    "'''A website requires the users to input username and password to register. Write a program to\n",
    "check the validity of password input by users.\n",
    "Your program should accept a sequence of comma separated passwords and will check them\n",
    "according to the above criteria. Passwords that match the criteria are to be printed, each\n",
    "separated by a comma.'''\n",
    "p=input().split(\",\")\n",
    "for i in p:\n",
    "    if len(i)<6 or len(i)>12:\n",
    "        continue\n",
    "    else:\n",
    "        u,l,d,s=0,0,0,0\n",
    "        for j in i:\n",
    "            if j.isalpha():\n",
    "                if j.isupper():\n",
    "                    u=1\n",
    "                elif j.islower():\n",
    "                    l=1\n",
    "            elif j.isdigit():\n",
    "                d=1\n",
    "            elif j!=\" \":\n",
    "                s=1\n",
    "    if u==1 and l==1 and s==1 and d==1:\n",
    "        print(i,end=\",\")\n",
    "            "
   ]
  }
 ],
 "metadata": {
  "kernelspec": {
   "display_name": "Python 3 (ipykernel)",
   "language": "python",
   "name": "python3"
  },
  "language_info": {
   "codemirror_mode": {
    "name": "ipython",
    "version": 3
   },
   "file_extension": ".py",
   "mimetype": "text/x-python",
   "name": "python",
   "nbconvert_exporter": "python",
   "pygments_lexer": "ipython3",
   "version": "3.10.9"
  }
 },
 "nbformat": 4,
 "nbformat_minor": 5
}
